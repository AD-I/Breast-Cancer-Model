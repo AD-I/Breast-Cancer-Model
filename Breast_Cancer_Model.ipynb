{
  "nbformat": 4,
  "nbformat_minor": 0,
  "metadata": {
    "colab": {
      "name": "SparseCategoricalCrossentropy.ipynb",
      "provenance": [],
      "collapsed_sections": [
        "FzNWVEyUez9v"
      ],
      "include_colab_link": true
    },
    "kernelspec": {
      "name": "python3",
      "display_name": "Python 3"
    },
    "accelerator": "GPU"
  },
  "cells": [
    {
      "cell_type": "markdown",
      "metadata": {
        "id": "view-in-github",
        "colab_type": "text"
      },
      "source": [
        "<a href=\"https://colab.research.google.com/github/AD-I/Breast-Cancer-Model/blob/master/Breast_Cancer_Model.ipynb\" target=\"_parent\"><img src=\"https://colab.research.google.com/assets/colab-badge.svg\" alt=\"Open In Colab\"/></a>"
      ]
    },
    {
      "cell_type": "markdown",
      "metadata": {
        "id": "ESN8bzEL-h-g",
        "colab_type": "text"
      },
      "source": [
        "#Breast Cancer Neuronal Network"
      ]
    },
    {
      "cell_type": "markdown",
      "metadata": {
        "id": "M8XBHaRs-WLk",
        "colab_type": "text"
      },
      "source": [
        "##Import all frameworks"
      ]
    },
    {
      "cell_type": "code",
      "metadata": {
        "id": "uVjo59QMStbg",
        "colab_type": "code",
        "colab": {}
      },
      "source": [
        "import tensorflow as tf\n",
        "\n",
        "import numpy as np\n",
        "import matplotlib.pyplot as plt\n",
        "import pandas as pd"
      ],
      "execution_count": 1,
      "outputs": []
    },
    {
      "cell_type": "markdown",
      "metadata": {
        "id": "EgDSHqhl-uW-",
        "colab_type": "text"
      },
      "source": [
        "##Upload breast cancer dataset"
      ]
    },
    {
      "cell_type": "code",
      "metadata": {
        "id": "tBIgsL-0tesI",
        "colab_type": "code",
        "colab": {
          "base_uri": "https://localhost:8080/",
          "height": 127
        },
        "outputId": "788bfa79-cad3-4a06-c85f-11d156f5c7e2"
      },
      "source": [
        "!git clone https://github.com/AD-I/Breast-Cancer-Model.git"
      ],
      "execution_count": 2,
      "outputs": [
        {
          "output_type": "stream",
          "text": [
            "Cloning into 'Breast-Cancer-Model'...\n",
            "remote: Enumerating objects: 10, done.\u001b[K\n",
            "remote: Counting objects: 100% (10/10), done.\u001b[K\n",
            "remote: Compressing objects: 100% (10/10), done.\u001b[K\n",
            "remote: Total 10 (delta 2), reused 0 (delta 0), pack-reused 0\u001b[K\n",
            "Unpacking objects: 100% (10/10), done.\n"
          ],
          "name": "stdout"
        }
      ]
    },
    {
      "cell_type": "code",
      "metadata": {
        "id": "fNiVN_FGtuQA",
        "colab_type": "code",
        "colab": {}
      },
      "source": [
        "df = pd.read_csv('Breast-Cancer-Model/data.csv')"
      ],
      "execution_count": 3,
      "outputs": []
    },
    {
      "cell_type": "markdown",
      "metadata": {
        "id": "iRNKTfZy-2nv",
        "colab_type": "text"
      },
      "source": [
        "##Modify the dataset"
      ]
    },
    {
      "cell_type": "code",
      "metadata": {
        "id": "LqawCEF_GRAp",
        "colab_type": "code",
        "colab": {}
      },
      "source": [
        "df"
      ],
      "execution_count": null,
      "outputs": []
    },
    {
      "cell_type": "code",
      "metadata": {
        "id": "nPTJPJzIGwh1",
        "colab_type": "code",
        "colab": {}
      },
      "source": [
        "mapdict = {'M':1,'B':0}\n",
        "df['diagnosis'] = df['diagnosis'].map(mapdict)\n",
        "df = df.drop(columns=['Unnamed: 32'])"
      ],
      "execution_count": 4,
      "outputs": []
    },
    {
      "cell_type": "code",
      "metadata": {
        "id": "rmOORgIWG3wV",
        "colab_type": "code",
        "colab": {}
      },
      "source": [
        "df"
      ],
      "execution_count": null,
      "outputs": []
    },
    {
      "cell_type": "code",
      "metadata": {
        "id": "wd8LH4LEGUP6",
        "colab_type": "code",
        "colab": {}
      },
      "source": [
        "df.describe()"
      ],
      "execution_count": null,
      "outputs": []
    },
    {
      "cell_type": "code",
      "metadata": {
        "id": "omDLWgfcGSQS",
        "colab_type": "code",
        "colab": {}
      },
      "source": [
        "df.corr()['diagnosis'].sort_values(ascending=[False])"
      ],
      "execution_count": null,
      "outputs": []
    },
    {
      "cell_type": "markdown",
      "metadata": {
        "id": "IU5cJ1X4_Icc",
        "colab_type": "text"
      },
      "source": [
        "##Extract the data by **Features** and **Labels** "
      ]
    },
    {
      "cell_type": "code",
      "metadata": {
        "id": "mx_NI-PjTC_5",
        "colab_type": "code",
        "colab": {}
      },
      "source": [
        "#df = df.sample(frac=1)\n",
        "labels = df['diagnosis']\n",
        "my_features = ['concave points_worst',\n",
        "               'perimeter_worst',\n",
        "               'concave points_mean',\n",
        "               'radius_worst',\n",
        "               'perimeter_mean',\n",
        "               'area_worst',\n",
        "               'radius_mean',\n",
        "               'area_mean',\n",
        "               'concavity_mean',\n",
        "               'concavity_worst',\n",
        "               'compactness_mean',\n",
        "               'compactness_worst'\n",
        "               ]\n",
        "features = df[my_features]\n",
        "labels = labels.to_numpy()\n",
        "features = features.to_numpy()\n"
      ],
      "execution_count": 5,
      "outputs": []
    },
    {
      "cell_type": "code",
      "metadata": {
        "id": "VaZtRmMMVEA9",
        "colab_type": "code",
        "colab": {}
      },
      "source": [
        "print('Labels')\n",
        "print(labels.shape, end=' ')\n",
        "print(labels.ndim)\n",
        "\n",
        "print('\\nFeatures:')\n",
        "print(features.shape, end=' ')\n",
        "print(features.ndim)"
      ],
      "execution_count": null,
      "outputs": []
    },
    {
      "cell_type": "markdown",
      "metadata": {
        "id": "UPMK5fBJ_PiU",
        "colab_type": "text"
      },
      "source": [
        "###Split the data between train, validation and test data"
      ]
    },
    {
      "cell_type": "markdown",
      "metadata": {
        "id": "61qphebkCKqa",
        "colab_type": "text"
      },
      "source": [
        "Should try split more the data with train, validation and test data to check if the model is overfited."
      ]
    },
    {
      "cell_type": "code",
      "metadata": {
        "id": "RaCI04Sv0LGA",
        "colab_type": "code",
        "colab": {}
      },
      "source": [
        "from sklearn.preprocessing import MinMaxScaler\n",
        "\n",
        "min_max_scaler = MinMaxScaler()\n",
        "features = min_max_scaler.fit_transform(features)"
      ],
      "execution_count": 6,
      "outputs": []
    },
    {
      "cell_type": "code",
      "metadata": {
        "id": "iXcHu-Rri70B",
        "colab_type": "code",
        "colab": {}
      },
      "source": [
        "from sklearn.model_selection import train_test_split\n",
        "\n",
        "x_train, x_valid, y_train, y_valid = train_test_split(features, labels, test_size=0.3)\n",
        "x_valid, x_test, y_valid, y_test = train_test_split(x_valid, y_valid, test_size=0.33)"
      ],
      "execution_count": 7,
      "outputs": []
    },
    {
      "cell_type": "code",
      "metadata": {
        "id": "ViiHvgJTgce7",
        "colab_type": "code",
        "colab": {
          "base_uri": "https://localhost:8080/",
          "height": 127
        },
        "outputId": "e1f22f50-0f10-4eb6-e8c0-c183ffb7def5"
      },
      "source": [
        "print('Train')\n",
        "print('Features: ', x_train.shape, end=' Labels: ')\n",
        "print(y_train.shape)\n",
        "print('Validation')\n",
        "print('Features: ', x_valid.shape, end=' Labels: ')\n",
        "print(y_valid.shape)\n",
        "print('Test')\n",
        "print('Features: ', x_test.shape, end=' Labels: ')\n",
        "print(y_test.shape)"
      ],
      "execution_count": null,
      "outputs": [
        {
          "output_type": "stream",
          "text": [
            "Train\n",
            "Features:  (398, 12) Labels: (398,)\n",
            "Validation\n",
            "Features:  (114, 12) Labels: (114,)\n",
            "Test\n",
            "Features:  (57, 12) Labels: (57,)\n"
          ],
          "name": "stdout"
        }
      ]
    },
    {
      "cell_type": "code",
      "metadata": {
        "id": "Ib9tJFsLcEma",
        "colab_type": "code",
        "colab": {}
      },
      "source": [
        "x_train = tf.convert_to_tensor(x_train, np.float64)\n",
        "y_train = tf.convert_to_tensor(y_train, np.float64)\n",
        "\n",
        "x_valid = tf.convert_to_tensor(x_valid, np.float64)\n",
        "y_valid = tf.convert_to_tensor(y_valid, np.float64)\n",
        "\n",
        "x_test = tf.convert_to_tensor(x_test, np.float64)\n",
        "y_test = tf.convert_to_tensor(y_test, np.float64)"
      ],
      "execution_count": 8,
      "outputs": []
    },
    {
      "cell_type": "markdown",
      "metadata": {
        "id": "VqtO8GfTAN4D",
        "colab_type": "text"
      },
      "source": [
        "##Model"
      ]
    },
    {
      "cell_type": "markdown",
      "metadata": {
        "id": "yiPbgqm39ZM4",
        "colab_type": "text"
      },
      "source": [
        "### Functional API Model"
      ]
    },
    {
      "cell_type": "code",
      "metadata": {
        "id": "wMgc5Ch9f95y",
        "colab_type": "code",
        "colab": {}
      },
      "source": [
        "def create_model(lr=0.001, n_hidden_neurons=6, dropout=True):\n",
        "  tf.keras.backend.clear_session()\n",
        "\n",
        "  inputs = tf.keras.Input(shape=(12,), name='input')\n",
        "  x = tf.keras.layers.Dense(n_hidden_neurons, activation='relu')(inputs)\n",
        "  if dropout:\n",
        "    drop = tf.keras.layers.Dropout(.2)(x)\n",
        "    outputs = tf.keras.layers.Dense(2, activation='softmax')(drop)\n",
        "  else:\n",
        "    outputs = tf.keras.layers.Dense(2, activation='softmax')(x)\n",
        "\n",
        "  model = tf.keras.Model(inputs=inputs, outputs=outputs, name='breast_cancer_model')\n",
        "\n",
        "  model.compile(\n",
        "    loss=tf.keras.losses.SparseCategoricalCrossentropy(),\n",
        "    optimizer=tf.keras.optimizers.Adam(learning_rate=lr),\n",
        "    metrics=['accuracy']\n",
        "  )\n",
        "\n",
        "  return model"
      ],
      "execution_count": 9,
      "outputs": []
    },
    {
      "cell_type": "code",
      "metadata": {
        "id": "UciuUzQmgzQH",
        "colab_type": "code",
        "colab": {
          "base_uri": "https://localhost:8080/",
          "height": 1000
        },
        "outputId": "63225df3-6d12-4831-c092-eeee5ae29ae7"
      },
      "source": [
        "model = create_model(1e-5, 20, dropout=False)\n",
        "epochs = 150\n",
        "batch_size = 32\n",
        "\n",
        "lr_schedule = tf.keras.callbacks.LearningRateScheduler(\n",
        "    (lambda epoch: 1e-5 * 10**(epoch / 30))\n",
        ")\n",
        "\n",
        "history = model.fit(\n",
        "    x_train,\n",
        "    y_train,\n",
        "    batch_size=batch_size,\n",
        "    epochs=epochs,\n",
        "    verbose=2,\n",
        "    validation_data=(x_valid, y_valid),\n",
        "    callbacks=[lr_schedule]\n",
        ")"
      ],
      "execution_count": 10,
      "outputs": [
        {
          "output_type": "stream",
          "text": [
            "Epoch 1/150\n",
            "13/13 - 0s - loss: 0.6782 - accuracy: 0.5578 - val_loss: 0.6713 - val_accuracy: 0.6842 - lr: 1.0000e-05\n",
            "Epoch 2/150\n",
            "13/13 - 0s - loss: 0.6780 - accuracy: 0.5603 - val_loss: 0.6712 - val_accuracy: 0.6842 - lr: 1.0798e-05\n",
            "Epoch 3/150\n",
            "13/13 - 0s - loss: 0.6778 - accuracy: 0.5704 - val_loss: 0.6711 - val_accuracy: 0.6842 - lr: 1.1659e-05\n",
            "Epoch 4/150\n",
            "13/13 - 0s - loss: 0.6776 - accuracy: 0.5754 - val_loss: 0.6709 - val_accuracy: 0.6842 - lr: 1.2589e-05\n",
            "Epoch 5/150\n",
            "13/13 - 0s - loss: 0.6774 - accuracy: 0.5754 - val_loss: 0.6708 - val_accuracy: 0.6842 - lr: 1.3594e-05\n",
            "Epoch 6/150\n",
            "13/13 - 0s - loss: 0.6771 - accuracy: 0.5829 - val_loss: 0.6706 - val_accuracy: 0.6842 - lr: 1.4678e-05\n",
            "Epoch 7/150\n",
            "13/13 - 0s - loss: 0.6769 - accuracy: 0.5879 - val_loss: 0.6704 - val_accuracy: 0.6842 - lr: 1.5849e-05\n",
            "Epoch 8/150\n",
            "13/13 - 0s - loss: 0.6766 - accuracy: 0.5955 - val_loss: 0.6702 - val_accuracy: 0.6930 - lr: 1.7113e-05\n",
            "Epoch 9/150\n",
            "13/13 - 0s - loss: 0.6763 - accuracy: 0.6005 - val_loss: 0.6700 - val_accuracy: 0.7018 - lr: 1.8478e-05\n",
            "Epoch 10/150\n",
            "13/13 - 0s - loss: 0.6760 - accuracy: 0.6106 - val_loss: 0.6698 - val_accuracy: 0.7018 - lr: 1.9953e-05\n",
            "Epoch 11/150\n",
            "13/13 - 0s - loss: 0.6757 - accuracy: 0.6156 - val_loss: 0.6695 - val_accuracy: 0.7368 - lr: 2.1544e-05\n",
            "Epoch 12/150\n",
            "13/13 - 0s - loss: 0.6753 - accuracy: 0.6357 - val_loss: 0.6692 - val_accuracy: 0.7456 - lr: 2.3263e-05\n",
            "Epoch 13/150\n",
            "13/13 - 0s - loss: 0.6749 - accuracy: 0.6432 - val_loss: 0.6689 - val_accuracy: 0.7544 - lr: 2.5119e-05\n",
            "Epoch 14/150\n",
            "13/13 - 0s - loss: 0.6745 - accuracy: 0.6432 - val_loss: 0.6686 - val_accuracy: 0.7544 - lr: 2.7123e-05\n",
            "Epoch 15/150\n",
            "13/13 - 0s - loss: 0.6740 - accuracy: 0.6558 - val_loss: 0.6682 - val_accuracy: 0.7544 - lr: 2.9286e-05\n",
            "Epoch 16/150\n",
            "13/13 - 0s - loss: 0.6736 - accuracy: 0.6633 - val_loss: 0.6678 - val_accuracy: 0.7544 - lr: 3.1623e-05\n",
            "Epoch 17/150\n",
            "13/13 - 0s - loss: 0.6731 - accuracy: 0.6759 - val_loss: 0.6674 - val_accuracy: 0.7632 - lr: 3.4145e-05\n",
            "Epoch 18/150\n",
            "13/13 - 0s - loss: 0.6725 - accuracy: 0.6910 - val_loss: 0.6670 - val_accuracy: 0.7632 - lr: 3.6869e-05\n",
            "Epoch 19/150\n",
            "13/13 - 0s - loss: 0.6719 - accuracy: 0.7085 - val_loss: 0.6665 - val_accuracy: 0.7719 - lr: 3.9811e-05\n",
            "Epoch 20/150\n",
            "13/13 - 0s - loss: 0.6713 - accuracy: 0.7236 - val_loss: 0.6660 - val_accuracy: 0.7807 - lr: 4.2987e-05\n",
            "Epoch 21/150\n",
            "13/13 - 0s - loss: 0.6706 - accuracy: 0.7337 - val_loss: 0.6655 - val_accuracy: 0.7807 - lr: 4.6416e-05\n",
            "Epoch 22/150\n",
            "13/13 - 0s - loss: 0.6698 - accuracy: 0.7538 - val_loss: 0.6649 - val_accuracy: 0.7895 - lr: 5.0119e-05\n",
            "Epoch 23/150\n",
            "13/13 - 0s - loss: 0.6690 - accuracy: 0.7739 - val_loss: 0.6642 - val_accuracy: 0.7895 - lr: 5.4117e-05\n",
            "Epoch 24/150\n",
            "13/13 - 0s - loss: 0.6682 - accuracy: 0.7864 - val_loss: 0.6635 - val_accuracy: 0.7895 - lr: 5.8434e-05\n",
            "Epoch 25/150\n",
            "13/13 - 0s - loss: 0.6672 - accuracy: 0.8015 - val_loss: 0.6627 - val_accuracy: 0.7895 - lr: 6.3096e-05\n",
            "Epoch 26/150\n",
            "13/13 - 0s - loss: 0.6663 - accuracy: 0.8166 - val_loss: 0.6618 - val_accuracy: 0.7982 - lr: 6.8129e-05\n",
            "Epoch 27/150\n",
            "13/13 - 0s - loss: 0.6652 - accuracy: 0.8317 - val_loss: 0.6609 - val_accuracy: 0.8070 - lr: 7.3564e-05\n",
            "Epoch 28/150\n",
            "13/13 - 0s - loss: 0.6640 - accuracy: 0.8492 - val_loss: 0.6599 - val_accuracy: 0.8246 - lr: 7.9433e-05\n",
            "Epoch 29/150\n",
            "13/13 - 0s - loss: 0.6628 - accuracy: 0.8568 - val_loss: 0.6588 - val_accuracy: 0.8333 - lr: 8.5770e-05\n",
            "Epoch 30/150\n",
            "13/13 - 0s - loss: 0.6614 - accuracy: 0.8643 - val_loss: 0.6576 - val_accuracy: 0.8421 - lr: 9.2612e-05\n",
            "Epoch 31/150\n",
            "13/13 - 0s - loss: 0.6599 - accuracy: 0.8769 - val_loss: 0.6562 - val_accuracy: 0.8596 - lr: 1.0000e-04\n",
            "Epoch 32/150\n",
            "13/13 - 0s - loss: 0.6583 - accuracy: 0.8794 - val_loss: 0.6548 - val_accuracy: 0.8509 - lr: 1.0798e-04\n",
            "Epoch 33/150\n",
            "13/13 - 0s - loss: 0.6565 - accuracy: 0.8945 - val_loss: 0.6534 - val_accuracy: 0.8596 - lr: 1.1659e-04\n",
            "Epoch 34/150\n",
            "13/13 - 0s - loss: 0.6547 - accuracy: 0.9045 - val_loss: 0.6518 - val_accuracy: 0.8684 - lr: 1.2589e-04\n",
            "Epoch 35/150\n",
            "13/13 - 0s - loss: 0.6526 - accuracy: 0.9045 - val_loss: 0.6496 - val_accuracy: 0.8772 - lr: 1.3594e-04\n",
            "Epoch 36/150\n",
            "13/13 - 0s - loss: 0.6504 - accuracy: 0.9045 - val_loss: 0.6476 - val_accuracy: 0.8947 - lr: 1.4678e-04\n",
            "Epoch 37/150\n",
            "13/13 - 0s - loss: 0.6481 - accuracy: 0.9121 - val_loss: 0.6458 - val_accuracy: 0.9035 - lr: 1.5849e-04\n",
            "Epoch 38/150\n",
            "13/13 - 0s - loss: 0.6452 - accuracy: 0.9146 - val_loss: 0.6427 - val_accuracy: 0.9035 - lr: 1.7113e-04\n",
            "Epoch 39/150\n",
            "13/13 - 0s - loss: 0.6423 - accuracy: 0.9171 - val_loss: 0.6400 - val_accuracy: 0.9123 - lr: 1.8478e-04\n",
            "Epoch 40/150\n",
            "13/13 - 0s - loss: 0.6389 - accuracy: 0.9196 - val_loss: 0.6364 - val_accuracy: 0.9123 - lr: 1.9953e-04\n",
            "Epoch 41/150\n",
            "13/13 - 0s - loss: 0.6352 - accuracy: 0.9221 - val_loss: 0.6327 - val_accuracy: 0.9123 - lr: 2.1544e-04\n",
            "Epoch 42/150\n",
            "13/13 - 0s - loss: 0.6311 - accuracy: 0.9221 - val_loss: 0.6283 - val_accuracy: 0.9211 - lr: 2.3263e-04\n",
            "Epoch 43/150\n",
            "13/13 - 0s - loss: 0.6268 - accuracy: 0.9221 - val_loss: 0.6248 - val_accuracy: 0.9298 - lr: 2.5119e-04\n",
            "Epoch 44/150\n",
            "13/13 - 0s - loss: 0.6214 - accuracy: 0.9246 - val_loss: 0.6187 - val_accuracy: 0.9211 - lr: 2.7123e-04\n",
            "Epoch 45/150\n",
            "13/13 - 0s - loss: 0.6156 - accuracy: 0.9296 - val_loss: 0.6132 - val_accuracy: 0.9298 - lr: 2.9286e-04\n",
            "Epoch 46/150\n",
            "13/13 - 0s - loss: 0.6090 - accuracy: 0.9296 - val_loss: 0.6060 - val_accuracy: 0.9298 - lr: 3.1623e-04\n",
            "Epoch 47/150\n",
            "13/13 - 0s - loss: 0.6009 - accuracy: 0.9296 - val_loss: 0.5993 - val_accuracy: 0.9386 - lr: 3.4145e-04\n",
            "Epoch 48/150\n",
            "13/13 - 0s - loss: 0.5917 - accuracy: 0.9121 - val_loss: 0.5916 - val_accuracy: 0.9386 - lr: 3.6869e-04\n",
            "Epoch 49/150\n",
            "13/13 - 0s - loss: 0.5801 - accuracy: 0.9121 - val_loss: 0.5809 - val_accuracy: 0.9386 - lr: 3.9811e-04\n",
            "Epoch 50/150\n",
            "13/13 - 0s - loss: 0.5680 - accuracy: 0.9121 - val_loss: 0.5679 - val_accuracy: 0.9386 - lr: 4.2987e-04\n",
            "Epoch 51/150\n",
            "13/13 - 0s - loss: 0.5541 - accuracy: 0.9171 - val_loss: 0.5537 - val_accuracy: 0.9386 - lr: 4.6416e-04\n",
            "Epoch 52/150\n",
            "13/13 - 0s - loss: 0.5384 - accuracy: 0.9146 - val_loss: 0.5376 - val_accuracy: 0.9386 - lr: 5.0119e-04\n",
            "Epoch 53/150\n",
            "13/13 - 0s - loss: 0.5213 - accuracy: 0.9171 - val_loss: 0.5223 - val_accuracy: 0.9386 - lr: 5.4117e-04\n",
            "Epoch 54/150\n",
            "13/13 - 0s - loss: 0.5027 - accuracy: 0.9146 - val_loss: 0.5011 - val_accuracy: 0.9386 - lr: 5.8434e-04\n",
            "Epoch 55/150\n",
            "13/13 - 0s - loss: 0.4819 - accuracy: 0.9146 - val_loss: 0.4788 - val_accuracy: 0.9386 - lr: 6.3096e-04\n",
            "Epoch 56/150\n",
            "13/13 - 0s - loss: 0.4583 - accuracy: 0.9171 - val_loss: 0.4543 - val_accuracy: 0.9386 - lr: 6.8129e-04\n",
            "Epoch 57/150\n",
            "13/13 - 0s - loss: 0.4318 - accuracy: 0.9196 - val_loss: 0.4299 - val_accuracy: 0.9386 - lr: 7.3564e-04\n",
            "Epoch 58/150\n",
            "13/13 - 0s - loss: 0.4046 - accuracy: 0.9271 - val_loss: 0.3997 - val_accuracy: 0.9386 - lr: 7.9433e-04\n",
            "Epoch 59/150\n",
            "13/13 - 0s - loss: 0.3764 - accuracy: 0.9246 - val_loss: 0.3723 - val_accuracy: 0.9386 - lr: 8.5770e-04\n",
            "Epoch 60/150\n",
            "13/13 - 0s - loss: 0.3505 - accuracy: 0.9271 - val_loss: 0.3499 - val_accuracy: 0.9386 - lr: 9.2612e-04\n",
            "Epoch 61/150\n",
            "13/13 - 0s - loss: 0.3248 - accuracy: 0.9271 - val_loss: 0.3248 - val_accuracy: 0.9298 - lr: 0.0010\n",
            "Epoch 62/150\n",
            "13/13 - 0s - loss: 0.3015 - accuracy: 0.9322 - val_loss: 0.3026 - val_accuracy: 0.9298 - lr: 0.0011\n",
            "Epoch 63/150\n",
            "13/13 - 0s - loss: 0.2794 - accuracy: 0.9296 - val_loss: 0.2888 - val_accuracy: 0.9386 - lr: 0.0012\n",
            "Epoch 64/150\n",
            "13/13 - 0s - loss: 0.2609 - accuracy: 0.9271 - val_loss: 0.2688 - val_accuracy: 0.9298 - lr: 0.0013\n",
            "Epoch 65/150\n",
            "13/13 - 0s - loss: 0.2441 - accuracy: 0.9372 - val_loss: 0.2530 - val_accuracy: 0.9298 - lr: 0.0014\n",
            "Epoch 66/150\n",
            "13/13 - 0s - loss: 0.2279 - accuracy: 0.9372 - val_loss: 0.2436 - val_accuracy: 0.9386 - lr: 0.0015\n",
            "Epoch 67/150\n",
            "13/13 - 0s - loss: 0.2166 - accuracy: 0.9347 - val_loss: 0.2300 - val_accuracy: 0.9298 - lr: 0.0016\n",
            "Epoch 68/150\n",
            "13/13 - 0s - loss: 0.2039 - accuracy: 0.9322 - val_loss: 0.2208 - val_accuracy: 0.9298 - lr: 0.0017\n",
            "Epoch 69/150\n",
            "13/13 - 0s - loss: 0.1941 - accuracy: 0.9347 - val_loss: 0.2123 - val_accuracy: 0.9298 - lr: 0.0018\n",
            "Epoch 70/150\n",
            "13/13 - 0s - loss: 0.1856 - accuracy: 0.9397 - val_loss: 0.2055 - val_accuracy: 0.9211 - lr: 0.0020\n",
            "Epoch 71/150\n",
            "13/13 - 0s - loss: 0.1788 - accuracy: 0.9422 - val_loss: 0.1995 - val_accuracy: 0.9298 - lr: 0.0022\n",
            "Epoch 72/150\n",
            "13/13 - 0s - loss: 0.1720 - accuracy: 0.9372 - val_loss: 0.1935 - val_accuracy: 0.9211 - lr: 0.0023\n",
            "Epoch 73/150\n",
            "13/13 - 0s - loss: 0.1646 - accuracy: 0.9372 - val_loss: 0.1884 - val_accuracy: 0.9211 - lr: 0.0025\n",
            "Epoch 74/150\n",
            "13/13 - 0s - loss: 0.1603 - accuracy: 0.9397 - val_loss: 0.1844 - val_accuracy: 0.9211 - lr: 0.0027\n",
            "Epoch 75/150\n",
            "13/13 - 0s - loss: 0.1559 - accuracy: 0.9447 - val_loss: 0.1804 - val_accuracy: 0.9386 - lr: 0.0029\n",
            "Epoch 76/150\n",
            "13/13 - 0s - loss: 0.1518 - accuracy: 0.9397 - val_loss: 0.1774 - val_accuracy: 0.9123 - lr: 0.0032\n",
            "Epoch 77/150\n",
            "13/13 - 0s - loss: 0.1506 - accuracy: 0.9598 - val_loss: 0.1736 - val_accuracy: 0.9123 - lr: 0.0034\n",
            "Epoch 78/150\n",
            "13/13 - 0s - loss: 0.1517 - accuracy: 0.9422 - val_loss: 0.1729 - val_accuracy: 0.9211 - lr: 0.0037\n",
            "Epoch 79/150\n",
            "13/13 - 0s - loss: 0.1438 - accuracy: 0.9548 - val_loss: 0.1649 - val_accuracy: 0.9298 - lr: 0.0040\n",
            "Epoch 80/150\n",
            "13/13 - 0s - loss: 0.1395 - accuracy: 0.9472 - val_loss: 0.1643 - val_accuracy: 0.9123 - lr: 0.0043\n",
            "Epoch 81/150\n",
            "13/13 - 0s - loss: 0.1390 - accuracy: 0.9447 - val_loss: 0.1653 - val_accuracy: 0.9211 - lr: 0.0046\n",
            "Epoch 82/150\n",
            "13/13 - 0s - loss: 0.1394 - accuracy: 0.9497 - val_loss: 0.1580 - val_accuracy: 0.9123 - lr: 0.0050\n",
            "Epoch 83/150\n",
            "13/13 - 0s - loss: 0.1381 - accuracy: 0.9447 - val_loss: 0.1535 - val_accuracy: 0.9298 - lr: 0.0054\n",
            "Epoch 84/150\n",
            "13/13 - 0s - loss: 0.1352 - accuracy: 0.9523 - val_loss: 0.1501 - val_accuracy: 0.9123 - lr: 0.0058\n",
            "Epoch 85/150\n",
            "13/13 - 0s - loss: 0.1315 - accuracy: 0.9472 - val_loss: 0.1567 - val_accuracy: 0.9298 - lr: 0.0063\n",
            "Epoch 86/150\n",
            "13/13 - 0s - loss: 0.1319 - accuracy: 0.9548 - val_loss: 0.1560 - val_accuracy: 0.9211 - lr: 0.0068\n",
            "Epoch 87/150\n",
            "13/13 - 0s - loss: 0.1306 - accuracy: 0.9523 - val_loss: 0.1551 - val_accuracy: 0.9298 - lr: 0.0074\n",
            "Epoch 88/150\n",
            "13/13 - 0s - loss: 0.1273 - accuracy: 0.9422 - val_loss: 0.1435 - val_accuracy: 0.9123 - lr: 0.0079\n",
            "Epoch 89/150\n",
            "13/13 - 0s - loss: 0.1290 - accuracy: 0.9548 - val_loss: 0.1413 - val_accuracy: 0.9211 - lr: 0.0086\n",
            "Epoch 90/150\n",
            "13/13 - 0s - loss: 0.1266 - accuracy: 0.9548 - val_loss: 0.1386 - val_accuracy: 0.9211 - lr: 0.0093\n",
            "Epoch 91/150\n",
            "13/13 - 0s - loss: 0.1290 - accuracy: 0.9573 - val_loss: 0.1461 - val_accuracy: 0.9298 - lr: 0.0100\n",
            "Epoch 92/150\n",
            "13/13 - 0s - loss: 0.1297 - accuracy: 0.9523 - val_loss: 0.1604 - val_accuracy: 0.9386 - lr: 0.0108\n",
            "Epoch 93/150\n",
            "13/13 - 0s - loss: 0.1220 - accuracy: 0.9523 - val_loss: 0.1331 - val_accuracy: 0.9298 - lr: 0.0117\n",
            "Epoch 94/150\n",
            "13/13 - 0s - loss: 0.1232 - accuracy: 0.9548 - val_loss: 0.1337 - val_accuracy: 0.9298 - lr: 0.0126\n",
            "Epoch 95/150\n",
            "13/13 - 0s - loss: 0.1207 - accuracy: 0.9472 - val_loss: 0.1446 - val_accuracy: 0.9386 - lr: 0.0136\n",
            "Epoch 96/150\n",
            "13/13 - 0s - loss: 0.1224 - accuracy: 0.9472 - val_loss: 0.1506 - val_accuracy: 0.9298 - lr: 0.0147\n",
            "Epoch 97/150\n",
            "13/13 - 0s - loss: 0.1300 - accuracy: 0.9497 - val_loss: 0.2369 - val_accuracy: 0.9035 - lr: 0.0158\n",
            "Epoch 98/150\n",
            "13/13 - 0s - loss: 0.1493 - accuracy: 0.9322 - val_loss: 0.1301 - val_accuracy: 0.9298 - lr: 0.0171\n",
            "Epoch 99/150\n",
            "13/13 - 0s - loss: 0.1209 - accuracy: 0.9497 - val_loss: 0.1531 - val_accuracy: 0.9298 - lr: 0.0185\n",
            "Epoch 100/150\n",
            "13/13 - 0s - loss: 0.1335 - accuracy: 0.9472 - val_loss: 0.1789 - val_accuracy: 0.9298 - lr: 0.0200\n",
            "Epoch 101/150\n",
            "13/13 - 0s - loss: 0.1270 - accuracy: 0.9397 - val_loss: 0.1413 - val_accuracy: 0.9386 - lr: 0.0215\n",
            "Epoch 102/150\n",
            "13/13 - 0s - loss: 0.1201 - accuracy: 0.9523 - val_loss: 0.1239 - val_accuracy: 0.9211 - lr: 0.0233\n",
            "Epoch 103/150\n",
            "13/13 - 0s - loss: 0.1223 - accuracy: 0.9573 - val_loss: 0.1245 - val_accuracy: 0.9298 - lr: 0.0251\n",
            "Epoch 104/150\n",
            "13/13 - 0s - loss: 0.1174 - accuracy: 0.9573 - val_loss: 0.1222 - val_accuracy: 0.9298 - lr: 0.0271\n",
            "Epoch 105/150\n",
            "13/13 - 0s - loss: 0.1345 - accuracy: 0.9422 - val_loss: 0.1278 - val_accuracy: 0.9298 - lr: 0.0293\n",
            "Epoch 106/150\n",
            "13/13 - 0s - loss: 0.1244 - accuracy: 0.9523 - val_loss: 0.1310 - val_accuracy: 0.9298 - lr: 0.0316\n",
            "Epoch 107/150\n",
            "13/13 - 0s - loss: 0.1514 - accuracy: 0.9322 - val_loss: 0.1238 - val_accuracy: 0.9298 - lr: 0.0341\n",
            "Epoch 108/150\n",
            "13/13 - 0s - loss: 0.1896 - accuracy: 0.9422 - val_loss: 0.1938 - val_accuracy: 0.9298 - lr: 0.0369\n",
            "Epoch 109/150\n",
            "13/13 - 0s - loss: 0.1679 - accuracy: 0.9397 - val_loss: 0.1249 - val_accuracy: 0.9386 - lr: 0.0398\n",
            "Epoch 110/150\n",
            "13/13 - 0s - loss: 0.1376 - accuracy: 0.9397 - val_loss: 0.1493 - val_accuracy: 0.9298 - lr: 0.0430\n",
            "Epoch 111/150\n",
            "13/13 - 0s - loss: 0.1467 - accuracy: 0.9347 - val_loss: 0.1608 - val_accuracy: 0.9386 - lr: 0.0464\n",
            "Epoch 112/150\n",
            "13/13 - 0s - loss: 0.1450 - accuracy: 0.9447 - val_loss: 0.1452 - val_accuracy: 0.9298 - lr: 0.0501\n",
            "Epoch 113/150\n",
            "13/13 - 0s - loss: 0.1858 - accuracy: 0.9271 - val_loss: 0.1841 - val_accuracy: 0.9386 - lr: 0.0541\n",
            "Epoch 114/150\n",
            "13/13 - 0s - loss: 0.1322 - accuracy: 0.9548 - val_loss: 0.1411 - val_accuracy: 0.9386 - lr: 0.0584\n",
            "Epoch 115/150\n",
            "13/13 - 0s - loss: 0.1166 - accuracy: 0.9598 - val_loss: 0.1319 - val_accuracy: 0.9386 - lr: 0.0631\n",
            "Epoch 116/150\n",
            "13/13 - 0s - loss: 0.1686 - accuracy: 0.9322 - val_loss: 0.2229 - val_accuracy: 0.9123 - lr: 0.0681\n",
            "Epoch 117/150\n",
            "13/13 - 0s - loss: 0.1483 - accuracy: 0.9422 - val_loss: 0.1480 - val_accuracy: 0.9386 - lr: 0.0736\n",
            "Epoch 118/150\n",
            "13/13 - 0s - loss: 0.1223 - accuracy: 0.9523 - val_loss: 0.1437 - val_accuracy: 0.9298 - lr: 0.0794\n",
            "Epoch 119/150\n",
            "13/13 - 0s - loss: 0.1258 - accuracy: 0.9523 - val_loss: 0.1336 - val_accuracy: 0.9386 - lr: 0.0858\n",
            "Epoch 120/150\n",
            "13/13 - 0s - loss: 0.1467 - accuracy: 0.9472 - val_loss: 0.1999 - val_accuracy: 0.9298 - lr: 0.0926\n",
            "Epoch 121/150\n",
            "13/13 - 0s - loss: 0.1372 - accuracy: 0.9347 - val_loss: 0.1767 - val_accuracy: 0.9298 - lr: 0.1000\n",
            "Epoch 122/150\n",
            "13/13 - 0s - loss: 0.2012 - accuracy: 0.9246 - val_loss: 0.2004 - val_accuracy: 0.9298 - lr: 0.1080\n",
            "Epoch 123/150\n",
            "13/13 - 0s - loss: 0.1709 - accuracy: 0.9296 - val_loss: 0.1624 - val_accuracy: 0.9298 - lr: 0.1166\n",
            "Epoch 124/150\n",
            "13/13 - 0s - loss: 0.1476 - accuracy: 0.9447 - val_loss: 0.1799 - val_accuracy: 0.9386 - lr: 0.1259\n",
            "Epoch 125/150\n",
            "13/13 - 0s - loss: 0.1257 - accuracy: 0.9548 - val_loss: 0.2113 - val_accuracy: 0.9211 - lr: 0.1359\n",
            "Epoch 126/150\n",
            "13/13 - 0s - loss: 0.1580 - accuracy: 0.9397 - val_loss: 0.2886 - val_accuracy: 0.9035 - lr: 0.1468\n",
            "Epoch 127/150\n",
            "13/13 - 0s - loss: 0.2053 - accuracy: 0.9146 - val_loss: 0.1211 - val_accuracy: 0.9386 - lr: 0.1585\n",
            "Epoch 128/150\n",
            "13/13 - 0s - loss: 0.1381 - accuracy: 0.9397 - val_loss: 0.1163 - val_accuracy: 0.9386 - lr: 0.1711\n",
            "Epoch 129/150\n",
            "13/13 - 0s - loss: 0.1401 - accuracy: 0.9447 - val_loss: 0.1822 - val_accuracy: 0.9386 - lr: 0.1848\n",
            "Epoch 130/150\n",
            "13/13 - 0s - loss: 0.1430 - accuracy: 0.9422 - val_loss: 0.1573 - val_accuracy: 0.9211 - lr: 0.1995\n",
            "Epoch 131/150\n",
            "13/13 - 0s - loss: 0.1782 - accuracy: 0.9347 - val_loss: 0.1591 - val_accuracy: 0.9474 - lr: 0.2154\n",
            "Epoch 132/150\n",
            "13/13 - 0s - loss: 0.1361 - accuracy: 0.9447 - val_loss: 0.1362 - val_accuracy: 0.9386 - lr: 0.2326\n",
            "Epoch 133/150\n",
            "13/13 - 0s - loss: 0.1300 - accuracy: 0.9422 - val_loss: 0.1442 - val_accuracy: 0.9386 - lr: 0.2512\n",
            "Epoch 134/150\n",
            "13/13 - 0s - loss: 0.2325 - accuracy: 0.8945 - val_loss: 0.2183 - val_accuracy: 0.9035 - lr: 0.2712\n",
            "Epoch 135/150\n",
            "13/13 - 0s - loss: 0.1668 - accuracy: 0.9322 - val_loss: 0.6175 - val_accuracy: 0.8421 - lr: 0.2929\n",
            "Epoch 136/150\n",
            "13/13 - 0s - loss: 0.2034 - accuracy: 0.9322 - val_loss: 0.2901 - val_accuracy: 0.9123 - lr: 0.3162\n",
            "Epoch 137/150\n",
            "13/13 - 0s - loss: 0.1754 - accuracy: 0.9322 - val_loss: 0.2772 - val_accuracy: 0.9211 - lr: 0.3415\n",
            "Epoch 138/150\n",
            "13/13 - 0s - loss: 0.1475 - accuracy: 0.9347 - val_loss: 0.2407 - val_accuracy: 0.9298 - lr: 0.3687\n",
            "Epoch 139/150\n",
            "13/13 - 0s - loss: 0.2716 - accuracy: 0.9121 - val_loss: 2.0294 - val_accuracy: 0.5351 - lr: 0.3981\n",
            "Epoch 140/150\n",
            "13/13 - 0s - loss: 2.6379 - accuracy: 0.7990 - val_loss: 2.5231 - val_accuracy: 0.5965 - lr: 0.4299\n",
            "Epoch 141/150\n",
            "13/13 - 0s - loss: 0.8998 - accuracy: 0.6960 - val_loss: 0.2260 - val_accuracy: 0.9298 - lr: 0.4642\n",
            "Epoch 142/150\n",
            "13/13 - 0s - loss: 0.3657 - accuracy: 0.9045 - val_loss: 0.2439 - val_accuracy: 0.9211 - lr: 0.5012\n",
            "Epoch 143/150\n",
            "13/13 - 0s - loss: 0.2610 - accuracy: 0.9397 - val_loss: 0.2344 - val_accuracy: 0.9123 - lr: 0.5412\n",
            "Epoch 144/150\n",
            "13/13 - 0s - loss: 0.3005 - accuracy: 0.9070 - val_loss: 0.4268 - val_accuracy: 0.8158 - lr: 0.5843\n",
            "Epoch 145/150\n",
            "13/13 - 0s - loss: 0.2584 - accuracy: 0.9146 - val_loss: 0.4364 - val_accuracy: 0.8158 - lr: 0.6310\n",
            "Epoch 146/150\n",
            "13/13 - 0s - loss: 0.3682 - accuracy: 0.8794 - val_loss: 0.2974 - val_accuracy: 0.8772 - lr: 0.6813\n",
            "Epoch 147/150\n",
            "13/13 - 0s - loss: 0.3879 - accuracy: 0.9070 - val_loss: 0.4351 - val_accuracy: 0.8158 - lr: 0.7356\n",
            "Epoch 148/150\n",
            "13/13 - 0s - loss: 0.3235 - accuracy: 0.8894 - val_loss: 0.2002 - val_accuracy: 0.9298 - lr: 0.7943\n",
            "Epoch 149/150\n",
            "13/13 - 0s - loss: 0.3045 - accuracy: 0.9020 - val_loss: 0.3343 - val_accuracy: 0.9035 - lr: 0.8577\n",
            "Epoch 150/150\n",
            "13/13 - 0s - loss: 0.3292 - accuracy: 0.9221 - val_loss: 0.4618 - val_accuracy: 0.7982 - lr: 0.9261\n"
          ],
          "name": "stdout"
        }
      ]
    },
    {
      "cell_type": "code",
      "metadata": {
        "id": "X6SuSIfK-22D",
        "colab_type": "code",
        "colab": {}
      },
      "source": [
        "model.summary()"
      ],
      "execution_count": null,
      "outputs": []
    },
    {
      "cell_type": "code",
      "metadata": {
        "id": "4HQJ-VhK_A1l",
        "colab_type": "code",
        "colab": {
          "base_uri": "https://localhost:8080/",
          "height": 422
        },
        "outputId": "9c7d2442-bbf0-4eb2-8c21-a4d305dae229"
      },
      "source": [
        "tf.keras.utils.plot_model(\n",
        "    model, to_file='my_first_model.png', show_shapes=True, show_layer_names=True)\n"
      ],
      "execution_count": 82,
      "outputs": [
        {
          "output_type": "execute_result",
          "data": {
            "image/png": "[encoded data removed]",
            "text/plain": [
              "<IPython.core.display.Image object>"
            ]
          },
          "metadata": {
            "tags": []
          },
          "execution_count": 82
        }
      ]
    },
    {
      "cell_type": "markdown",
      "metadata": {
        "id": "ERMbcBlTAoE5",
        "colab_type": "text"
      },
      "source": [
        "###Show loss and accuaracy per epochs"
      ]
    },
    {
      "cell_type": "code",
      "metadata": {
        "id": "v9oqMS9KjGCK",
        "colab_type": "code",
        "colab": {
          "base_uri": "https://localhost:8080/",
          "height": 273
        },
        "outputId": "27c0448f-643c-431b-9523-2318215a8f10"
      },
      "source": [
        "plt.semilogx(history.history['lr'], history.history['loss'])\n",
        "plt.axis([1e-5, 1e-1, 0, 1])\n",
        "plt.show()"
      ],
      "execution_count": 11,
      "outputs": [
        {
          "output_type": "display_data",
          "data": {
            "image/png": "[encoded data removed]",
            "text/plain": [
              "<Figure size 432x288 with 1 Axes>"
            ]
          },
          "metadata": {
            "tags": [],
            "needs_background": "light"
          }
        }
      ]
    },
    {
      "cell_type": "code",
      "metadata": {
        "id": "xjaLscSvweqH",
        "colab_type": "code",
        "colab": {
          "base_uri": "https://localhost:8080/",
          "height": 1000
        },
        "outputId": "5f1386d4-3909-4376-9527-336b5c45a479"
      },
      "source": [
        "model = create_model(2e-3, 16)\n",
        "epochs = 600\n",
        "batch_size = 32\n",
        "\n",
        "early_stopping = tf.keras.callbacks.EarlyStopping(patience=20)\n",
        "checkpoint = tf.keras.callbacks.ModelCheckpoint(\n",
        "    'model_checkpoint.h5', save_best_only=True)\n",
        "\n",
        "history = model.fit(\n",
        "    x_train,\n",
        "    y_train,\n",
        "    batch_size=batch_size,\n",
        "    epochs=epochs,\n",
        "    verbose=2,\n",
        "    validation_data=(x_valid, y_valid),\n",
        "    callbacks=[early_stopping, checkpoint]\n",
        ")"
      ],
      "execution_count": 12,
      "outputs": [
        {
          "output_type": "stream",
          "text": [
            "Epoch 1/600\n",
            "13/13 - 0s - loss: 0.7074 - accuracy: 0.3719 - val_loss: 0.6743 - val_accuracy: 0.5088\n",
            "Epoch 2/600\n",
            "13/13 - 0s - loss: 0.6633 - accuracy: 0.6307 - val_loss: 0.6488 - val_accuracy: 0.8333\n",
            "Epoch 3/600\n",
            "13/13 - 0s - loss: 0.6371 - accuracy: 0.7538 - val_loss: 0.6152 - val_accuracy: 0.9211\n",
            "Epoch 4/600\n",
            "13/13 - 0s - loss: 0.6054 - accuracy: 0.8141 - val_loss: 0.5793 - val_accuracy: 0.9211\n",
            "Epoch 5/600\n",
            "13/13 - 0s - loss: 0.5752 - accuracy: 0.8593 - val_loss: 0.5428 - val_accuracy: 0.9298\n",
            "Epoch 6/600\n",
            "13/13 - 0s - loss: 0.5268 - accuracy: 0.8819 - val_loss: 0.5051 - val_accuracy: 0.9298\n",
            "Epoch 7/600\n",
            "13/13 - 0s - loss: 0.4871 - accuracy: 0.9045 - val_loss: 0.4597 - val_accuracy: 0.9211\n",
            "Epoch 8/600\n",
            "13/13 - 0s - loss: 0.4538 - accuracy: 0.8995 - val_loss: 0.4321 - val_accuracy: 0.9298\n",
            "Epoch 9/600\n",
            "13/13 - 0s - loss: 0.4163 - accuracy: 0.9070 - val_loss: 0.4024 - val_accuracy: 0.9298\n",
            "Epoch 10/600\n",
            "13/13 - 0s - loss: 0.3925 - accuracy: 0.8995 - val_loss: 0.3681 - val_accuracy: 0.9298\n",
            "Epoch 11/600\n",
            "13/13 - 0s - loss: 0.3569 - accuracy: 0.9070 - val_loss: 0.3474 - val_accuracy: 0.9298\n",
            "Epoch 12/600\n",
            "13/13 - 0s - loss: 0.3292 - accuracy: 0.9171 - val_loss: 0.3252 - val_accuracy: 0.9298\n",
            "Epoch 13/600\n",
            "13/13 - 0s - loss: 0.3249 - accuracy: 0.9045 - val_loss: 0.3019 - val_accuracy: 0.9298\n",
            "Epoch 14/600\n",
            "13/13 - 0s - loss: 0.2862 - accuracy: 0.9296 - val_loss: 0.2862 - val_accuracy: 0.9298\n",
            "Epoch 15/600\n",
            "13/13 - 0s - loss: 0.2762 - accuracy: 0.9271 - val_loss: 0.2687 - val_accuracy: 0.9298\n",
            "Epoch 16/600\n",
            "13/13 - 0s - loss: 0.2586 - accuracy: 0.9221 - val_loss: 0.2568 - val_accuracy: 0.9298\n",
            "Epoch 17/600\n",
            "13/13 - 0s - loss: 0.2391 - accuracy: 0.9246 - val_loss: 0.2452 - val_accuracy: 0.9298\n",
            "Epoch 18/600\n",
            "13/13 - 0s - loss: 0.2364 - accuracy: 0.9146 - val_loss: 0.2372 - val_accuracy: 0.9386\n",
            "Epoch 19/600\n",
            "13/13 - 0s - loss: 0.2177 - accuracy: 0.9322 - val_loss: 0.2292 - val_accuracy: 0.9298\n",
            "Epoch 20/600\n",
            "13/13 - 0s - loss: 0.2216 - accuracy: 0.9472 - val_loss: 0.2234 - val_accuracy: 0.9211\n",
            "Epoch 21/600\n",
            "13/13 - 0s - loss: 0.2159 - accuracy: 0.9171 - val_loss: 0.2175 - val_accuracy: 0.9386\n",
            "Epoch 22/600\n",
            "13/13 - 0s - loss: 0.2055 - accuracy: 0.9347 - val_loss: 0.2116 - val_accuracy: 0.9211\n",
            "Epoch 23/600\n",
            "13/13 - 0s - loss: 0.2040 - accuracy: 0.9322 - val_loss: 0.2080 - val_accuracy: 0.9123\n",
            "Epoch 24/600\n",
            "13/13 - 0s - loss: 0.1905 - accuracy: 0.9422 - val_loss: 0.2033 - val_accuracy: 0.9211\n",
            "Epoch 25/600\n",
            "13/13 - 0s - loss: 0.1923 - accuracy: 0.9271 - val_loss: 0.1994 - val_accuracy: 0.9386\n",
            "Epoch 26/600\n",
            "13/13 - 0s - loss: 0.1830 - accuracy: 0.9422 - val_loss: 0.1956 - val_accuracy: 0.9386\n",
            "Epoch 27/600\n",
            "13/13 - 0s - loss: 0.1804 - accuracy: 0.9347 - val_loss: 0.1942 - val_accuracy: 0.9123\n",
            "Epoch 28/600\n",
            "13/13 - 0s - loss: 0.1915 - accuracy: 0.9372 - val_loss: 0.1904 - val_accuracy: 0.9211\n",
            "Epoch 29/600\n",
            "13/13 - 0s - loss: 0.1707 - accuracy: 0.9447 - val_loss: 0.1879 - val_accuracy: 0.9298\n",
            "Epoch 30/600\n",
            "13/13 - 0s - loss: 0.1726 - accuracy: 0.9497 - val_loss: 0.1868 - val_accuracy: 0.9123\n",
            "Epoch 31/600\n",
            "13/13 - 0s - loss: 0.1753 - accuracy: 0.9347 - val_loss: 0.1841 - val_accuracy: 0.9211\n",
            "Epoch 32/600\n",
            "13/13 - 0s - loss: 0.1547 - accuracy: 0.9472 - val_loss: 0.1826 - val_accuracy: 0.9211\n",
            "Epoch 33/600\n",
            "13/13 - 0s - loss: 0.1676 - accuracy: 0.9347 - val_loss: 0.1803 - val_accuracy: 0.9298\n",
            "Epoch 34/600\n",
            "13/13 - 0s - loss: 0.1731 - accuracy: 0.9497 - val_loss: 0.1810 - val_accuracy: 0.9123\n",
            "Epoch 35/600\n",
            "13/13 - 0s - loss: 0.1667 - accuracy: 0.9397 - val_loss: 0.1781 - val_accuracy: 0.9298\n",
            "Epoch 36/600\n",
            "13/13 - 0s - loss: 0.1636 - accuracy: 0.9447 - val_loss: 0.1772 - val_accuracy: 0.9123\n",
            "Epoch 37/600\n",
            "13/13 - 0s - loss: 0.1579 - accuracy: 0.9573 - val_loss: 0.1754 - val_accuracy: 0.9211\n",
            "Epoch 38/600\n",
            "13/13 - 0s - loss: 0.1594 - accuracy: 0.9447 - val_loss: 0.1745 - val_accuracy: 0.9123\n",
            "Epoch 39/600\n",
            "13/13 - 0s - loss: 0.1532 - accuracy: 0.9472 - val_loss: 0.1742 - val_accuracy: 0.9211\n",
            "Epoch 40/600\n",
            "13/13 - 0s - loss: 0.1518 - accuracy: 0.9497 - val_loss: 0.1735 - val_accuracy: 0.9123\n",
            "Epoch 41/600\n",
            "13/13 - 0s - loss: 0.1607 - accuracy: 0.9322 - val_loss: 0.1724 - val_accuracy: 0.9123\n",
            "Epoch 42/600\n",
            "13/13 - 0s - loss: 0.1614 - accuracy: 0.9422 - val_loss: 0.1707 - val_accuracy: 0.9123\n",
            "Epoch 43/600\n",
            "13/13 - 0s - loss: 0.1584 - accuracy: 0.9372 - val_loss: 0.1700 - val_accuracy: 0.9211\n",
            "Epoch 44/600\n",
            "13/13 - 0s - loss: 0.1667 - accuracy: 0.9322 - val_loss: 0.1697 - val_accuracy: 0.9123\n",
            "Epoch 45/600\n",
            "13/13 - 0s - loss: 0.1618 - accuracy: 0.9347 - val_loss: 0.1710 - val_accuracy: 0.9123\n",
            "Epoch 46/600\n",
            "13/13 - 0s - loss: 0.1613 - accuracy: 0.9347 - val_loss: 0.1701 - val_accuracy: 0.9123\n",
            "Epoch 47/600\n",
            "13/13 - 0s - loss: 0.1544 - accuracy: 0.9447 - val_loss: 0.1669 - val_accuracy: 0.9298\n",
            "Epoch 48/600\n",
            "13/13 - 0s - loss: 0.1355 - accuracy: 0.9623 - val_loss: 0.1680 - val_accuracy: 0.9123\n",
            "Epoch 49/600\n",
            "13/13 - 0s - loss: 0.1435 - accuracy: 0.9472 - val_loss: 0.1697 - val_accuracy: 0.9211\n",
            "Epoch 50/600\n",
            "13/13 - 0s - loss: 0.1399 - accuracy: 0.9573 - val_loss: 0.1665 - val_accuracy: 0.9123\n",
            "Epoch 51/600\n",
            "13/13 - 0s - loss: 0.1526 - accuracy: 0.9372 - val_loss: 0.1647 - val_accuracy: 0.9123\n",
            "Epoch 52/600\n",
            "13/13 - 0s - loss: 0.1563 - accuracy: 0.9497 - val_loss: 0.1742 - val_accuracy: 0.9298\n",
            "Epoch 53/600\n",
            "13/13 - 0s - loss: 0.1527 - accuracy: 0.9397 - val_loss: 0.1649 - val_accuracy: 0.9123\n",
            "Epoch 54/600\n",
            "13/13 - 0s - loss: 0.1468 - accuracy: 0.9347 - val_loss: 0.1672 - val_accuracy: 0.9211\n",
            "Epoch 55/600\n",
            "13/13 - 0s - loss: 0.1497 - accuracy: 0.9372 - val_loss: 0.1621 - val_accuracy: 0.9123\n",
            "Epoch 56/600\n",
            "13/13 - 0s - loss: 0.1417 - accuracy: 0.9497 - val_loss: 0.1636 - val_accuracy: 0.9123\n",
            "Epoch 57/600\n",
            "13/13 - 0s - loss: 0.1476 - accuracy: 0.9472 - val_loss: 0.1609 - val_accuracy: 0.9298\n",
            "Epoch 58/600\n",
            "13/13 - 0s - loss: 0.1419 - accuracy: 0.9472 - val_loss: 0.1611 - val_accuracy: 0.9123\n",
            "Epoch 59/600\n",
            "13/13 - 0s - loss: 0.1499 - accuracy: 0.9397 - val_loss: 0.1663 - val_accuracy: 0.9211\n",
            "Epoch 60/600\n",
            "13/13 - 0s - loss: 0.1430 - accuracy: 0.9447 - val_loss: 0.1606 - val_accuracy: 0.9123\n",
            "Epoch 61/600\n",
            "13/13 - 0s - loss: 0.1408 - accuracy: 0.9447 - val_loss: 0.1584 - val_accuracy: 0.9123\n",
            "Epoch 62/600\n",
            "13/13 - 0s - loss: 0.1355 - accuracy: 0.9497 - val_loss: 0.1580 - val_accuracy: 0.9123\n",
            "Epoch 63/600\n",
            "13/13 - 0s - loss: 0.1375 - accuracy: 0.9497 - val_loss: 0.1598 - val_accuracy: 0.9211\n",
            "Epoch 64/600\n",
            "13/13 - 0s - loss: 0.1302 - accuracy: 0.9573 - val_loss: 0.1584 - val_accuracy: 0.9123\n",
            "Epoch 65/600\n",
            "13/13 - 0s - loss: 0.1396 - accuracy: 0.9372 - val_loss: 0.1561 - val_accuracy: 0.9211\n",
            "Epoch 66/600\n",
            "13/13 - 0s - loss: 0.1413 - accuracy: 0.9472 - val_loss: 0.1555 - val_accuracy: 0.9123\n",
            "Epoch 67/600\n",
            "13/13 - 0s - loss: 0.1402 - accuracy: 0.9347 - val_loss: 0.1552 - val_accuracy: 0.9123\n",
            "Epoch 68/600\n",
            "13/13 - 0s - loss: 0.1446 - accuracy: 0.9422 - val_loss: 0.1557 - val_accuracy: 0.9123\n",
            "Epoch 69/600\n",
            "13/13 - 0s - loss: 0.1378 - accuracy: 0.9397 - val_loss: 0.1539 - val_accuracy: 0.9211\n",
            "Epoch 70/600\n",
            "13/13 - 0s - loss: 0.1366 - accuracy: 0.9497 - val_loss: 0.1538 - val_accuracy: 0.9211\n",
            "Epoch 71/600\n",
            "13/13 - 0s - loss: 0.1460 - accuracy: 0.9447 - val_loss: 0.1541 - val_accuracy: 0.9123\n",
            "Epoch 72/600\n",
            "13/13 - 0s - loss: 0.1433 - accuracy: 0.9447 - val_loss: 0.1528 - val_accuracy: 0.9211\n",
            "Epoch 73/600\n",
            "13/13 - 0s - loss: 0.1429 - accuracy: 0.9422 - val_loss: 0.1529 - val_accuracy: 0.9123\n",
            "Epoch 74/600\n",
            "13/13 - 0s - loss: 0.1395 - accuracy: 0.9472 - val_loss: 0.1608 - val_accuracy: 0.9298\n",
            "Epoch 75/600\n",
            "13/13 - 0s - loss: 0.1431 - accuracy: 0.9497 - val_loss: 0.1549 - val_accuracy: 0.9298\n",
            "Epoch 76/600\n",
            "13/13 - 0s - loss: 0.1479 - accuracy: 0.9397 - val_loss: 0.1520 - val_accuracy: 0.9211\n",
            "Epoch 77/600\n",
            "13/13 - 0s - loss: 0.1362 - accuracy: 0.9573 - val_loss: 0.1533 - val_accuracy: 0.9211\n",
            "Epoch 78/600\n",
            "13/13 - 0s - loss: 0.1415 - accuracy: 0.9422 - val_loss: 0.1515 - val_accuracy: 0.9211\n",
            "Epoch 79/600\n",
            "13/13 - 0s - loss: 0.1323 - accuracy: 0.9497 - val_loss: 0.1532 - val_accuracy: 0.9211\n",
            "Epoch 80/600\n",
            "13/13 - 0s - loss: 0.1378 - accuracy: 0.9422 - val_loss: 0.1516 - val_accuracy: 0.9211\n",
            "Epoch 81/600\n",
            "13/13 - 0s - loss: 0.1419 - accuracy: 0.9397 - val_loss: 0.1526 - val_accuracy: 0.9298\n",
            "Epoch 82/600\n",
            "13/13 - 0s - loss: 0.1382 - accuracy: 0.9523 - val_loss: 0.1503 - val_accuracy: 0.9211\n",
            "Epoch 83/600\n",
            "13/13 - 0s - loss: 0.1251 - accuracy: 0.9598 - val_loss: 0.1503 - val_accuracy: 0.9211\n",
            "Epoch 84/600\n",
            "13/13 - 0s - loss: 0.1349 - accuracy: 0.9573 - val_loss: 0.1518 - val_accuracy: 0.9211\n",
            "Epoch 85/600\n",
            "13/13 - 0s - loss: 0.1390 - accuracy: 0.9447 - val_loss: 0.1514 - val_accuracy: 0.9123\n",
            "Epoch 86/600\n",
            "13/13 - 0s - loss: 0.1369 - accuracy: 0.9548 - val_loss: 0.1546 - val_accuracy: 0.9298\n",
            "Epoch 87/600\n",
            "13/13 - 0s - loss: 0.1363 - accuracy: 0.9497 - val_loss: 0.1527 - val_accuracy: 0.9123\n",
            "Epoch 88/600\n",
            "13/13 - 0s - loss: 0.1327 - accuracy: 0.9497 - val_loss: 0.1510 - val_accuracy: 0.9123\n",
            "Epoch 89/600\n",
            "13/13 - 0s - loss: 0.1363 - accuracy: 0.9472 - val_loss: 0.1525 - val_accuracy: 0.9298\n",
            "Epoch 90/600\n",
            "13/13 - 0s - loss: 0.1268 - accuracy: 0.9548 - val_loss: 0.1521 - val_accuracy: 0.9298\n",
            "Epoch 91/600\n",
            "13/13 - 0s - loss: 0.1306 - accuracy: 0.9497 - val_loss: 0.1494 - val_accuracy: 0.9123\n",
            "Epoch 92/600\n",
            "13/13 - 0s - loss: 0.1369 - accuracy: 0.9472 - val_loss: 0.1525 - val_accuracy: 0.9298\n",
            "Epoch 93/600\n",
            "13/13 - 0s - loss: 0.1360 - accuracy: 0.9573 - val_loss: 0.1496 - val_accuracy: 0.9298\n",
            "Epoch 94/600\n",
            "13/13 - 0s - loss: 0.1360 - accuracy: 0.9472 - val_loss: 0.1481 - val_accuracy: 0.9298\n",
            "Epoch 95/600\n",
            "13/13 - 0s - loss: 0.1279 - accuracy: 0.9523 - val_loss: 0.1477 - val_accuracy: 0.9298\n",
            "Epoch 96/600\n",
            "13/13 - 0s - loss: 0.1362 - accuracy: 0.9523 - val_loss: 0.1493 - val_accuracy: 0.9298\n",
            "Epoch 97/600\n",
            "13/13 - 0s - loss: 0.1305 - accuracy: 0.9472 - val_loss: 0.1478 - val_accuracy: 0.9298\n",
            "Epoch 98/600\n",
            "13/13 - 0s - loss: 0.1365 - accuracy: 0.9548 - val_loss: 0.1487 - val_accuracy: 0.9211\n",
            "Epoch 99/600\n",
            "13/13 - 0s - loss: 0.1265 - accuracy: 0.9497 - val_loss: 0.1504 - val_accuracy: 0.9211\n",
            "Epoch 100/600\n",
            "13/13 - 0s - loss: 0.1330 - accuracy: 0.9573 - val_loss: 0.1501 - val_accuracy: 0.9298\n",
            "Epoch 101/600\n",
            "13/13 - 0s - loss: 0.1348 - accuracy: 0.9548 - val_loss: 0.1481 - val_accuracy: 0.9211\n",
            "Epoch 102/600\n",
            "13/13 - 0s - loss: 0.1247 - accuracy: 0.9497 - val_loss: 0.1472 - val_accuracy: 0.9211\n",
            "Epoch 103/600\n",
            "13/13 - 0s - loss: 0.1318 - accuracy: 0.9497 - val_loss: 0.1476 - val_accuracy: 0.9298\n",
            "Epoch 104/600\n",
            "13/13 - 0s - loss: 0.1209 - accuracy: 0.9472 - val_loss: 0.1476 - val_accuracy: 0.9211\n",
            "Epoch 105/600\n",
            "13/13 - 0s - loss: 0.1327 - accuracy: 0.9523 - val_loss: 0.1467 - val_accuracy: 0.9211\n",
            "Epoch 106/600\n",
            "13/13 - 0s - loss: 0.1338 - accuracy: 0.9497 - val_loss: 0.1457 - val_accuracy: 0.9298\n",
            "Epoch 107/600\n",
            "13/13 - 0s - loss: 0.1266 - accuracy: 0.9523 - val_loss: 0.1483 - val_accuracy: 0.9298\n",
            "Epoch 108/600\n",
            "13/13 - 0s - loss: 0.1342 - accuracy: 0.9472 - val_loss: 0.1456 - val_accuracy: 0.9298\n",
            "Epoch 109/600\n",
            "13/13 - 0s - loss: 0.1292 - accuracy: 0.9623 - val_loss: 0.1469 - val_accuracy: 0.9298\n",
            "Epoch 110/600\n",
            "13/13 - 0s - loss: 0.1378 - accuracy: 0.9523 - val_loss: 0.1461 - val_accuracy: 0.9298\n",
            "Epoch 111/600\n",
            "13/13 - 0s - loss: 0.1258 - accuracy: 0.9573 - val_loss: 0.1442 - val_accuracy: 0.9298\n",
            "Epoch 112/600\n",
            "13/13 - 0s - loss: 0.1271 - accuracy: 0.9573 - val_loss: 0.1454 - val_accuracy: 0.9298\n",
            "Epoch 113/600\n",
            "13/13 - 0s - loss: 0.1252 - accuracy: 0.9598 - val_loss: 0.1451 - val_accuracy: 0.9298\n",
            "Epoch 114/600\n",
            "13/13 - 0s - loss: 0.1298 - accuracy: 0.9548 - val_loss: 0.1431 - val_accuracy: 0.9298\n",
            "Epoch 115/600\n",
            "13/13 - 0s - loss: 0.1323 - accuracy: 0.9447 - val_loss: 0.1434 - val_accuracy: 0.9386\n",
            "Epoch 116/600\n",
            "13/13 - 0s - loss: 0.1227 - accuracy: 0.9548 - val_loss: 0.1434 - val_accuracy: 0.9386\n",
            "Epoch 117/600\n",
            "13/13 - 0s - loss: 0.1291 - accuracy: 0.9523 - val_loss: 0.1448 - val_accuracy: 0.9298\n",
            "Epoch 118/600\n",
            "13/13 - 0s - loss: 0.1219 - accuracy: 0.9497 - val_loss: 0.1463 - val_accuracy: 0.9298\n",
            "Epoch 119/600\n",
            "13/13 - 0s - loss: 0.1305 - accuracy: 0.9497 - val_loss: 0.1453 - val_accuracy: 0.9298\n",
            "Epoch 120/600\n",
            "13/13 - 0s - loss: 0.1260 - accuracy: 0.9497 - val_loss: 0.1476 - val_accuracy: 0.9298\n",
            "Epoch 121/600\n",
            "13/13 - 0s - loss: 0.1300 - accuracy: 0.9548 - val_loss: 0.1449 - val_accuracy: 0.9298\n",
            "Epoch 122/600\n",
            "13/13 - 0s - loss: 0.1203 - accuracy: 0.9598 - val_loss: 0.1437 - val_accuracy: 0.9298\n",
            "Epoch 123/600\n",
            "13/13 - 0s - loss: 0.1274 - accuracy: 0.9573 - val_loss: 0.1424 - val_accuracy: 0.9298\n",
            "Epoch 124/600\n",
            "13/13 - 0s - loss: 0.1208 - accuracy: 0.9472 - val_loss: 0.1401 - val_accuracy: 0.9298\n",
            "Epoch 125/600\n",
            "13/13 - 0s - loss: 0.1198 - accuracy: 0.9573 - val_loss: 0.1416 - val_accuracy: 0.9386\n",
            "Epoch 126/600\n",
            "13/13 - 0s - loss: 0.1261 - accuracy: 0.9447 - val_loss: 0.1411 - val_accuracy: 0.9386\n",
            "Epoch 127/600\n",
            "13/13 - 0s - loss: 0.1225 - accuracy: 0.9573 - val_loss: 0.1426 - val_accuracy: 0.9298\n",
            "Epoch 128/600\n",
            "13/13 - 0s - loss: 0.1230 - accuracy: 0.9573 - val_loss: 0.1417 - val_accuracy: 0.9386\n",
            "Epoch 129/600\n",
            "13/13 - 0s - loss: 0.1280 - accuracy: 0.9497 - val_loss: 0.1449 - val_accuracy: 0.9298\n",
            "Epoch 130/600\n",
            "13/13 - 0s - loss: 0.1218 - accuracy: 0.9573 - val_loss: 0.1435 - val_accuracy: 0.9298\n",
            "Epoch 131/600\n",
            "13/13 - 0s - loss: 0.1258 - accuracy: 0.9523 - val_loss: 0.1441 - val_accuracy: 0.9298\n",
            "Epoch 132/600\n",
            "13/13 - 0s - loss: 0.1305 - accuracy: 0.9472 - val_loss: 0.1441 - val_accuracy: 0.9298\n",
            "Epoch 133/600\n",
            "13/13 - 0s - loss: 0.1299 - accuracy: 0.9497 - val_loss: 0.1401 - val_accuracy: 0.9298\n",
            "Epoch 134/600\n",
            "13/13 - 0s - loss: 0.1256 - accuracy: 0.9548 - val_loss: 0.1458 - val_accuracy: 0.9298\n",
            "Epoch 135/600\n",
            "13/13 - 0s - loss: 0.1165 - accuracy: 0.9548 - val_loss: 0.1426 - val_accuracy: 0.9298\n",
            "Epoch 136/600\n",
            "13/13 - 0s - loss: 0.1289 - accuracy: 0.9548 - val_loss: 0.1414 - val_accuracy: 0.9298\n",
            "Epoch 137/600\n",
            "13/13 - 0s - loss: 0.1256 - accuracy: 0.9598 - val_loss: 0.1441 - val_accuracy: 0.9298\n",
            "Epoch 138/600\n",
            "13/13 - 0s - loss: 0.1181 - accuracy: 0.9623 - val_loss: 0.1451 - val_accuracy: 0.9298\n",
            "Epoch 139/600\n",
            "13/13 - 0s - loss: 0.1168 - accuracy: 0.9648 - val_loss: 0.1418 - val_accuracy: 0.9298\n",
            "Epoch 140/600\n",
            "13/13 - 0s - loss: 0.1275 - accuracy: 0.9523 - val_loss: 0.1411 - val_accuracy: 0.9298\n",
            "Epoch 141/600\n",
            "13/13 - 0s - loss: 0.1231 - accuracy: 0.9548 - val_loss: 0.1442 - val_accuracy: 0.9298\n",
            "Epoch 142/600\n",
            "13/13 - 0s - loss: 0.1263 - accuracy: 0.9497 - val_loss: 0.1420 - val_accuracy: 0.9298\n",
            "Epoch 143/600\n",
            "13/13 - 0s - loss: 0.1319 - accuracy: 0.9497 - val_loss: 0.1392 - val_accuracy: 0.9386\n",
            "Epoch 144/600\n",
            "13/13 - 0s - loss: 0.1302 - accuracy: 0.9573 - val_loss: 0.1391 - val_accuracy: 0.9298\n",
            "Epoch 145/600\n",
            "13/13 - 0s - loss: 0.1285 - accuracy: 0.9497 - val_loss: 0.1383 - val_accuracy: 0.9386\n",
            "Epoch 146/600\n",
            "13/13 - 0s - loss: 0.1260 - accuracy: 0.9598 - val_loss: 0.1440 - val_accuracy: 0.9298\n",
            "Epoch 147/600\n",
            "13/13 - 0s - loss: 0.1228 - accuracy: 0.9648 - val_loss: 0.1411 - val_accuracy: 0.9298\n",
            "Epoch 148/600\n",
            "13/13 - 0s - loss: 0.1290 - accuracy: 0.9573 - val_loss: 0.1349 - val_accuracy: 0.9298\n",
            "Epoch 149/600\n",
            "13/13 - 0s - loss: 0.1158 - accuracy: 0.9573 - val_loss: 0.1386 - val_accuracy: 0.9298\n",
            "Epoch 150/600\n",
            "13/13 - 0s - loss: 0.1272 - accuracy: 0.9497 - val_loss: 0.1392 - val_accuracy: 0.9298\n",
            "Epoch 151/600\n",
            "13/13 - 0s - loss: 0.1204 - accuracy: 0.9523 - val_loss: 0.1389 - val_accuracy: 0.9298\n",
            "Epoch 152/600\n",
            "13/13 - 0s - loss: 0.1281 - accuracy: 0.9447 - val_loss: 0.1383 - val_accuracy: 0.9386\n",
            "Epoch 153/600\n",
            "13/13 - 0s - loss: 0.1108 - accuracy: 0.9573 - val_loss: 0.1409 - val_accuracy: 0.9298\n",
            "Epoch 154/600\n",
            "13/13 - 0s - loss: 0.1181 - accuracy: 0.9598 - val_loss: 0.1381 - val_accuracy: 0.9386\n",
            "Epoch 155/600\n",
            "13/13 - 0s - loss: 0.1268 - accuracy: 0.9573 - val_loss: 0.1403 - val_accuracy: 0.9298\n",
            "Epoch 156/600\n",
            "13/13 - 0s - loss: 0.1262 - accuracy: 0.9648 - val_loss: 0.1457 - val_accuracy: 0.9386\n",
            "Epoch 157/600\n",
            "13/13 - 0s - loss: 0.1290 - accuracy: 0.9548 - val_loss: 0.1386 - val_accuracy: 0.9386\n",
            "Epoch 158/600\n",
            "13/13 - 0s - loss: 0.1198 - accuracy: 0.9623 - val_loss: 0.1369 - val_accuracy: 0.9386\n",
            "Epoch 159/600\n",
            "13/13 - 0s - loss: 0.1136 - accuracy: 0.9598 - val_loss: 0.1392 - val_accuracy: 0.9298\n",
            "Epoch 160/600\n",
            "13/13 - 0s - loss: 0.1227 - accuracy: 0.9573 - val_loss: 0.1398 - val_accuracy: 0.9298\n",
            "Epoch 161/600\n",
            "13/13 - 0s - loss: 0.1167 - accuracy: 0.9623 - val_loss: 0.1362 - val_accuracy: 0.9298\n",
            "Epoch 162/600\n",
            "13/13 - 0s - loss: 0.1223 - accuracy: 0.9548 - val_loss: 0.1402 - val_accuracy: 0.9298\n",
            "Epoch 163/600\n",
            "13/13 - 0s - loss: 0.1180 - accuracy: 0.9573 - val_loss: 0.1418 - val_accuracy: 0.9298\n",
            "Epoch 164/600\n",
            "13/13 - 0s - loss: 0.1231 - accuracy: 0.9548 - val_loss: 0.1364 - val_accuracy: 0.9386\n",
            "Epoch 165/600\n",
            "13/13 - 0s - loss: 0.1187 - accuracy: 0.9573 - val_loss: 0.1376 - val_accuracy: 0.9386\n",
            "Epoch 166/600\n",
            "13/13 - 0s - loss: 0.1121 - accuracy: 0.9648 - val_loss: 0.1428 - val_accuracy: 0.9298\n",
            "Epoch 167/600\n",
            "13/13 - 0s - loss: 0.1191 - accuracy: 0.9497 - val_loss: 0.1392 - val_accuracy: 0.9386\n",
            "Epoch 168/600\n",
            "13/13 - 0s - loss: 0.1180 - accuracy: 0.9598 - val_loss: 0.1391 - val_accuracy: 0.9386\n"
          ],
          "name": "stdout"
        }
      ]
    },
    {
      "cell_type": "code",
      "metadata": {
        "id": "zv86DW_M3RAe",
        "colab_type": "code",
        "colab": {}
      },
      "source": [
        "model = tf.keras.models.load_model('model_checkpoint.h5')"
      ],
      "execution_count": 121,
      "outputs": []
    },
    {
      "cell_type": "code",
      "metadata": {
        "id": "NnBEioJ7XMPz",
        "colab_type": "code",
        "colab": {
          "base_uri": "https://localhost:8080/",
          "height": 499
        },
        "outputId": "c70325ab-d333-49fd-8f6c-0af9128bf46b"
      },
      "source": [
        "acc = history.history['accuracy']\n",
        "val_acc = history.history['val_accuracy']\n",
        "\n",
        "loss = history.history['loss']\n",
        "val_loss = history.history['val_loss']\n",
        "epochs_range = range(168)\n",
        "\n",
        "plt.figure(figsize=(8, 8))\n",
        "plt.subplot(1, 2, 1)\n",
        "plt.plot(epochs_range, acc, label='Training Accuracy')\n",
        "plt.plot(epochs_range, val_acc, label='Validation Accuracy')\n",
        "plt.legend(loc='lower right')\n",
        "plt.title('Training and Validation Accuracy')\n",
        "\n",
        "plt.subplot(1, 2, 2)\n",
        "plt.plot(epochs_range, loss, label='Training Loss')\n",
        "plt.plot(epochs_range, val_loss, label='Validation Loss')\n",
        "plt.legend(loc='upper right')\n",
        "plt.title('Training and Validation Loss')\n",
        "plt.show()"
      ],
      "execution_count": 13,
      "outputs": [
        {
          "output_type": "display_data",
          "data": {
            "image/png": "[encoded data removed]",
            "text/plain": [
              "<Figure size 576x576 with 2 Axes>"
            ]
          },
          "metadata": {
            "tags": [],
            "needs_background": "light"
          }
        }
      ]
    },
    {
      "cell_type": "markdown",
      "metadata": {
        "id": "WUbcv-JYAvJB",
        "colab_type": "text"
      },
      "source": [
        "###Predict values"
      ]
    },
    {
      "cell_type": "code",
      "metadata": {
        "id": "rQHvN7bupzYp",
        "colab_type": "code",
        "colab": {
          "base_uri": "https://localhost:8080/",
          "height": 72
        },
        "outputId": "e14132bc-6db3-4225-edd4-3c011d75e279"
      },
      "source": [
        "example = df.iloc[[162]]\n",
        "print(f\"Label: {example['diagnosis']}\")\n",
        "data = (example[my_features]).to_numpy()\n",
        "data = min_max_scaler.fit_transform(data)\n",
        "data = tf.convert_to_tensor(data)\n",
        "model.predict(data)"
      ],
      "execution_count": 14,
      "outputs": [
        {
          "output_type": "stream",
          "text": [
            "Label: 162    1\n",
            "Name: diagnosis, dtype: int64\n"
          ],
          "name": "stdout"
        },
        {
          "output_type": "execute_result",
          "data": {
            "text/plain": [
              "array([[9.9942774e-01, 5.7226780e-04]], dtype=float32)"
            ]
          },
          "metadata": {
            "tags": []
          },
          "execution_count": 14
        }
      ]
    },
    {
      "cell_type": "markdown",
      "metadata": {
        "id": "StNIVwB5aQ8h",
        "colab_type": "text"
      },
      "source": [
        "### Use test set"
      ]
    },
    {
      "cell_type": "code",
      "metadata": {
        "id": "jAtQONUcg2lK",
        "colab_type": "code",
        "colab": {
          "base_uri": "https://localhost:8080/",
          "height": 1000
        },
        "outputId": "8ccbcce6-bc12-4c6a-b561-0b948e4e20a7"
      },
      "source": [
        "print(len(tf.keras.backend.get_value(x_test)), 'Total values')\n",
        "for test_feature, test_label in zip(x_test, y_test):\n",
        "  true_label = tf.keras.backend.get_value(test_label)\n",
        "  print(f'Label: {true_label}', end=\" \")\n",
        "\n",
        "  test_feature = tf.expand_dims(test_feature, 0)\n",
        "  predicted = model.predict(test_feature)[0]\n",
        "  \n",
        "  if predicted[0] > predicted[1]:\n",
        "    if true_label == 0.0:\n",
        "      print(predicted, \"\\U0000274E\" + \"\\n\")\n",
        "    else:\n",
        "      print(predicted, \"\\U0000274C\" + \"\\n\")\n",
        "  else:\n",
        "    if true_label == 1.0:\n",
        "      print(predicted, \"\\U00002705\" + \"\\n\")\n",
        "    else:\n",
        "      print(predicted, \"\\U0000274C\" + \"\\n\")"
      ],
      "execution_count": 15,
      "outputs": [
        {
          "output_type": "stream",
          "text": [
            "57 Total values\n",
            "Label: 1.0 [0.06942886 0.9305711 ] ✅\n",
            "\n",
            "Label: 0.0 [0.9863848  0.01361514] ❎\n",
            "\n",
            "Label: 0.0 [0.99816656 0.00183347] ❎\n",
            "\n",
            "Label: 0.0 [0.99533504 0.00466499] ❎\n",
            "\n",
            "Label: 1.0 [0.00166576 0.9983342 ] ✅\n",
            "\n",
            "Label: 1.0 [9.4630951e-07 9.9999905e-01] ✅\n",
            "\n",
            "Label: 1.0 [0.0580805 0.9419195] ✅\n",
            "\n",
            "Label: 0.0 [0.99275875 0.00724127] ❎\n",
            "\n",
            "Label: 0.0 [0.9941491  0.00585092] ❎\n",
            "\n",
            "Label: 1.0 [0.0754259 0.9245741] ✅\n",
            "\n",
            "Label: 1.0 [0.00196793 0.99803203] ✅\n",
            "\n",
            "Label: 0.0 [0.987045   0.01295499] ❎\n",
            "\n",
            "Label: 1.0 [5.552576e-06 9.999944e-01] ✅\n",
            "\n",
            "Label: 0.0 [0.9847329  0.01526712] ❎\n",
            "\n",
            "Label: 0.0 [0.9915697  0.00843033] ❎\n",
            "\n",
            "Label: 0.0 [0.95917404 0.04082594] ❎\n",
            "\n",
            "Label: 0.0 [0.9926213  0.00737872] ❎\n",
            "\n",
            "Label: 1.0 [1.2995813e-09 1.0000000e+00] ✅\n",
            "\n",
            "Label: 0.0 [0.99019367 0.00980637] ❎\n",
            "\n",
            "Label: 1.0 [0.06088327 0.9391168 ] ✅\n",
            "\n",
            "Label: 0.0 [0.9861988  0.01380117] ❎\n",
            "\n",
            "Label: 1.0 [0.04894489 0.95105517] ✅\n",
            "\n",
            "Label: 0.0 [0.95861435 0.04138567] ❎\n",
            "\n",
            "Label: 1.0 [3.9022675e-07 9.9999964e-01] ✅\n",
            "\n",
            "Label: 1.0 [0.14596386 0.85403615] ✅\n",
            "\n",
            "Label: 0.0 [0.9726563  0.02734366] ❎\n",
            "\n",
            "Label: 0.0 [0.97814107 0.02185897] ❎\n",
            "\n",
            "Label: 0.0 [9.9955100e-01 4.4895685e-04] ❎\n",
            "\n",
            "Label: 0.0 [0.9963574  0.00364259] ❎\n",
            "\n",
            "Label: 0.0 [0.9920751  0.00792497] ❎\n",
            "\n",
            "Label: 0.0 [0.98647296 0.01352709] ❎\n",
            "\n",
            "Label: 1.0 [0.6267099  0.37329018] ❌\n",
            "\n",
            "Label: 1.0 [7.343041e-07 9.999993e-01] ✅\n",
            "\n",
            "Label: 1.0 [8.8444573e-04 9.9911553e-01] ✅\n",
            "\n",
            "Label: 0.0 [0.9988951  0.00110489] ❎\n",
            "\n",
            "Label: 0.0 [0.99650925 0.00349078] ❎\n",
            "\n",
            "Label: 1.0 [3.5637622e-05 9.9996436e-01] ✅\n",
            "\n",
            "Label: 0.0 [0.99751663 0.00248344] ❎\n",
            "\n",
            "Label: 1.0 [1.951185e-06 9.999981e-01] ✅\n",
            "\n",
            "Label: 1.0 [0.00202467 0.9979753 ] ✅\n",
            "\n",
            "Label: 1.0 [4.3745284e-04 9.9956256e-01] ✅\n",
            "\n",
            "Label: 1.0 [6.7192432e-04 9.9932814e-01] ✅\n",
            "\n",
            "Label: 0.0 [0.6009137 0.3990863] ❎\n",
            "\n",
            "Label: 0.0 [0.9930621  0.00693787] ❎\n",
            "\n",
            "Label: 1.0 [0.00175706 0.998243  ] ✅\n",
            "\n",
            "Label: 0.0 [0.9902006  0.00979939] ❎\n",
            "\n",
            "Label: 0.0 [0.97571385 0.02428615] ❎\n",
            "\n",
            "Label: 0.0 [0.9675242  0.03247582] ❎\n",
            "\n",
            "Label: 0.0 [0.9979931 0.0020069] ❎\n",
            "\n",
            "Label: 0.0 [0.9965431  0.00345691] ❎\n",
            "\n",
            "Label: 1.0 [1.5527717e-04 9.9984467e-01] ✅\n",
            "\n",
            "Label: 0.0 [0.6228152 0.3771848] ❎\n",
            "\n",
            "Label: 0.0 [0.9514899  0.04851015] ❎\n",
            "\n",
            "Label: 0.0 [0.99878615 0.00121385] ❎\n",
            "\n",
            "Label: 0.0 [0.9662465  0.03375351] ❎\n",
            "\n",
            "Label: 1.0 [4.3990886e-07 9.9999952e-01] ✅\n",
            "\n",
            "Label: 1.0 [0.06935664 0.9306434 ] ✅\n",
            "\n"
          ],
          "name": "stdout"
        }
      ]
    },
    {
      "cell_type": "markdown",
      "metadata": {
        "id": "tq5PFENCetjg",
        "colab_type": "text"
      },
      "source": [
        "## Save trained model"
      ]
    },
    {
      "cell_type": "code",
      "metadata": {
        "id": "HoqYEL7kYWcy",
        "colab_type": "code",
        "colab": {
          "base_uri": "https://localhost:8080/",
          "height": 110
        },
        "outputId": "56b60bb7-3c64-4d3c-fc83-f292648ea4b8"
      },
      "source": [
        "tf.saved_model.save(model, './modelTF')"
      ],
      "execution_count": 16,
      "outputs": [
        {
          "output_type": "stream",
          "text": [
            "WARNING:tensorflow:From /usr/local/lib/python3.6/dist-packages/tensorflow/python/ops/resource_variable_ops.py:1817: calling BaseResourceVariable.__init__ (from tensorflow.python.ops.resource_variable_ops) with constraint is deprecated and will be removed in a future version.\n",
            "Instructions for updating:\n",
            "If using Keras pass *_constraint arguments to layers.\n",
            "INFO:tensorflow:Assets written to: ./modelTF/assets\n"
          ],
          "name": "stdout"
        }
      ]
    },
    {
      "cell_type": "markdown",
      "metadata": {
        "id": "Z-vGbqgLf4pR",
        "colab_type": "text"
      },
      "source": [
        "Download the model"
      ]
    },
    {
      "cell_type": "code",
      "metadata": {
        "id": "CUdy-ax8b9Wf",
        "colab_type": "code",
        "colab": {
          "base_uri": "https://localhost:8080/",
          "height": 164
        },
        "outputId": "803213d1-dcd6-48dc-d7a4-64550aeea6cf"
      },
      "source": [
        "!zip -r model.zip ./modelTF\n",
        "!ls"
      ],
      "execution_count": 17,
      "outputs": [
        {
          "output_type": "stream",
          "text": [
            "  adding: modelTF/ (stored 0%)\n",
            "  adding: modelTF/variables/ (stored 0%)\n",
            "  adding: modelTF/variables/variables.data-00000-of-00002 (deflated 75%)\n",
            "  adding: modelTF/variables/variables.index (deflated 61%)\n",
            "  adding: modelTF/variables/variables.data-00001-of-00002 (deflated 14%)\n",
            "  adding: modelTF/saved_model.pb (deflated 86%)\n",
            "  adding: modelTF/assets/ (stored 0%)\n",
            "Breast-Cancer-Model  model_checkpoint.h5  modelTF  model.zip  sample_data\n"
          ],
          "name": "stdout"
        }
      ]
    },
    {
      "cell_type": "code",
      "metadata": {
        "id": "rRh5LRmycGS_",
        "colab_type": "code",
        "colab": {
          "base_uri": "https://localhost:8080/",
          "height": 17
        },
        "outputId": "a88ee53b-9b67-4021-f056-35aceaad9e72"
      },
      "source": [
        "try:\n",
        "  from google.colab import files\n",
        "  files.download('./model.zip')\n",
        "except ImportError:\n",
        "  pass"
      ],
      "execution_count": 18,
      "outputs": [
        {
          "output_type": "display_data",
          "data": {
            "application/javascript": [
              "\n",
              "    async function download(id, filename, size) {\n",
              "      if (!google.colab.kernel.accessAllowed) {\n",
              "        return;\n",
              "      }\n",
              "      const div = document.createElement('div');\n",
              "      const label = document.createElement('label');\n",
              "      label.textContent = `Downloading \"${filename}\": `;\n",
              "      div.appendChild(label);\n",
              "      const progress = document.createElement('progress');\n",
              "      progress.max = size;\n",
              "      div.appendChild(progress);\n",
              "      document.body.appendChild(div);\n",
              "\n",
              "      const buffers = [];\n",
              "      let downloaded = 0;\n",
              "\n",
              "      const channel = await google.colab.kernel.comms.open(id);\n",
              "      // Send a message to notify the kernel that we're ready.\n",
              "      channel.send({})\n",
              "\n",
              "      for await (const message of channel.messages) {\n",
              "        // Send a message to notify the kernel that we're ready.\n",
              "        channel.send({})\n",
              "        if (message.buffers) {\n",
              "          for (const buffer of message.buffers) {\n",
              "            buffers.push(buffer);\n",
              "            downloaded += buffer.byteLength;\n",
              "            progress.value = downloaded;\n",
              "          }\n",
              "        }\n",
              "      }\n",
              "      const blob = new Blob(buffers, {type: 'application/binary'});\n",
              "      const a = document.createElement('a');\n",
              "      a.href = window.URL.createObjectURL(blob);\n",
              "      a.download = filename;\n",
              "      div.appendChild(a);\n",
              "      a.click();\n",
              "      div.remove();\n",
              "    }\n",
              "  "
            ],
            "text/plain": [
              "<IPython.core.display.Javascript object>"
            ]
          },
          "metadata": {
            "tags": []
          }
        },
        {
          "output_type": "display_data",
          "data": {
            "application/javascript": [
              "download(\"download_4be3e2b7-b9e1-4a09-9e20-e8d272c14bba\", \"model.zip\", 16356)"
            ],
            "text/plain": [
              "<IPython.core.display.Javascript object>"
            ]
          },
          "metadata": {
            "tags": []
          }
        }
      ]
    }
  ]
}